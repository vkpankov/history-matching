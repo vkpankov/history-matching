{
 "metadata": {
  "language_info": {
   "codemirror_mode": {
    "name": "ipython",
    "version": 3
   },
   "file_extension": ".py",
   "mimetype": "text/x-python",
   "name": "python",
   "nbconvert_exporter": "python",
   "pygments_lexer": "ipython3",
   "version": "3.8.5"
  },
  "orig_nbformat": 2,
  "kernelspec": {
   "name": "python38564bita56acd052fb048a2b42da17401bfe1aa",
   "display_name": "Python 3.8.5 64-bit"
  },
  "metadata": {
   "interpreter": {
    "hash": "916dbcbb3f70747c44a77c7bcd40155683ae19c65e1c03b4aa3499c5328201f1"
   }
  }
 },
 "nbformat": 4,
 "nbformat_minor": 2,
 "cells": [
  {
   "cell_type": "code",
   "execution_count": null,
   "metadata": {},
   "outputs": [],
   "source": [
    "%reload_ext autoreload\n",
    "%autoreload 2\n",
    "\n",
    "from Simulator import Simulator\n",
    "from BinRealGenerator import BinRealGenerator\n",
    "import numpy as np\n",
    "import utils\n",
    "from matplotlib import pyplot as plt\n",
    "from HistoryMatching import HistoryMatching\n",
    "\n",
    "#Данные, полученные по snesim.py (realsmatrix.npy),  Training.ipynb (parameterizing_saved_model)\n",
    "realgen = BinRealGenerator(\"test_data/realsmatrix.npy\", \"test_data/parameterizing_saved_model\", 170, sand_perm_val = 2000, mud_perm_val=200, U_cache_file =  \"test_data/U.npy\", S_cache_file = \"test_data/S.npy\", Vh_cache_file = \"test_data/Vh.npy\")\n",
    "#Egg_Model_ECL - статические параметры гидродинамического симулятора\n",
    "sim = Simulator(\"test_data/models/EGG\", \"Egg_Model_ECL.DATA\", \"PermiabilityMap.INC\", \"PorosityMap.INC\", \"EGG_MODEL_ECL.UNSMRY\", threads_count=50, init_dirs=True)\n"
   ]
  },
  {
   "source": [
    "Тестовая модель"
   ],
   "cell_type": "markdown",
   "metadata": {}
  },
  {
   "cell_type": "code",
   "execution_count": null,
   "metadata": {},
   "outputs": [],
   "source": [
    "test_reals = np.load(\"test_data/test_reals.npy\")\n",
    "source = test_reals[193][:,:,0].T\n",
    "\n",
    "permiabilities = source.copy()\n",
    "permiabilities[permiabilities==0] = 200\n",
    "permiabilities[permiabilities==1] = 2000\n",
    "porosities = source.copy().astype(float)\n",
    "porosities[porosities==0]=0.15\n",
    "porosities[porosities==1]=0.25\n",
    "\n",
    "injectors = [(18, 90), (40, 90), (2, 75), (2, 60), (2,25)]\n",
    "\n",
    "producers = [(90, 40), (53, 40), (58, 2), (40, 2)]\n",
    "plt.imshow(permiabilities)\n",
    "utils.plotWells(plt, injectors, producers)\n",
    "\n",
    "observed = sim.run_simulator_source_dir(permiabilities, porosities)\n",
    "\n",
    "years_obs = observed.numpy_vector(\"YEARS\", report_only=True)\n",
    "fopr_obs = observed.numpy_vector(\"FOPR\", report_only=True) \n",
    "noise_const = 0\n",
    "observed_data = [fopr_obs + noise_const + np.random.normal(size = len(years_obs), scale=0.03 * abs(fopr_obs.max()+1))]\n",
    "for x in range(1,5):\n",
    "    wellInfo = observed.numpy_vector(f\"WOPR:PROD{x}\", report_only=True)\n",
    "    observed_data.append(wellInfo + np.random.normal(scale = 0.03 * abs(wellInfo.max()+1), size = len(wellInfo)))"
   ]
  },
  {
   "cell_type": "code",
   "execution_count": null,
   "metadata": {},
   "outputs": [],
   "source": [
    "prior = np.random.normal(size = 170)\n",
    "matcher = HistoryMatching(realgen, sim)\n",
    "matcher.match_model(prior, observed_data)"
   ]
  }
 ]
}